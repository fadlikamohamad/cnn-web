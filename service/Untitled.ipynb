{
 "cells": [
  {
   "cell_type": "code",
   "execution_count": null,
   "id": "30e0f8dd",
   "metadata": {},
   "outputs": [],
   "source": [
    "%run app.py"
   ]
  },
  {
   "cell_type": "code",
   "execution_count": 3,
   "id": "8afc9d94",
   "metadata": {},
   "outputs": [
    {
     "name": "stdout",
     "output_type": "stream",
     "text": [
      "Requirement already satisfied: Werkzeug in c:\\users\\public\\anaconda\\envs\\proyek_akhir\\lib\\site-packages (0.16.1)Note: you may need to restart the kernel to use updated packages.\n",
      "Collecting Werkzeug\n",
      "  Using cached Werkzeug-2.0.2-py3-none-any.whl (288 kB)\n",
      "Installing collected packages: Werkzeug\n",
      "  Attempting uninstall: Werkzeug\n",
      "    Found existing installation: Werkzeug 0.16.1\n",
      "    Uninstalling Werkzeug-0.16.1:\n",
      "      Successfully uninstalled Werkzeug-0.16.1\n",
      "Successfully installed Werkzeug-2.0.2\n",
      "\n"
     ]
    }
   ],
   "source": [
    "pip install --upgrade Werkzeug"
   ]
  },
  {
   "cell_type": "code",
   "execution_count": null,
   "id": "601c4500",
   "metadata": {},
   "outputs": [],
   "source": []
  }
 ],
 "metadata": {
  "kernelspec": {
   "display_name": "Python 3 (ipykernel)",
   "language": "python",
   "name": "python3"
  },
  "language_info": {
   "codemirror_mode": {
    "name": "ipython",
    "version": 3
   },
   "file_extension": ".py",
   "mimetype": "text/x-python",
   "name": "python",
   "nbconvert_exporter": "python",
   "pygments_lexer": "ipython3",
   "version": "3.8.12"
  }
 },
 "nbformat": 4,
 "nbformat_minor": 5
}
